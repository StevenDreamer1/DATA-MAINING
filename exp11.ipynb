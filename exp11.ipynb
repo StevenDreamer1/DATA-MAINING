{
  "nbformat": 4,
  "nbformat_minor": 0,
  "metadata": {
    "colab": {
      "provenance": [],
      "authorship_tag": "ABX9TyOEeO1VajFNHd90IXTQeJci",
      "include_colab_link": true
    },
    "kernelspec": {
      "name": "python3",
      "display_name": "Python 3"
    },
    "language_info": {
      "name": "python"
    }
  },
  "cells": [
    {
      "cell_type": "markdown",
      "metadata": {
        "id": "view-in-github",
        "colab_type": "text"
      },
      "source": [
        "<a href=\"https://colab.research.google.com/github/StevenDreamer1/DATA-MAINING/blob/main/exp11.ipynb\" target=\"_parent\"><img src=\"https://colab.research.google.com/assets/colab-badge.svg\" alt=\"Open In Colab\"/></a>"
      ]
    },
    {
      "cell_type": "code",
      "execution_count": 1,
      "metadata": {
        "colab": {
          "base_uri": "https://localhost:8080/"
        },
        "id": "sPcskpu7wTMw",
        "outputId": "4aa2f957-ccd7-4a34-a804-e2f2fe0f6cc7"
      },
      "outputs": [
        {
          "output_type": "stream",
          "name": "stdout",
          "text": [
            "[0.99244289 0.00755711]\n",
            "[6.30061232 0.54980396]\n"
          ]
        }
      ],
      "source": [
        "import numpy as np\n",
        "import pandas as pd\n",
        "from sklearn.decomposition import PCA\n",
        "X = np.array([[-1, -1], [-2, -1], [-3, -2], [1, 1], [2, 1], [3, 2]])\n",
        "pca = PCA(n_components=2)\n",
        "pca.fit(X)\n",
        "print(pca.explained_variance_ratio_)\n",
        "print(pca.singular_values_)"
      ]
    },
    {
      "cell_type": "code",
      "source": [
        "import numpy as np\n",
        "import pandas as pd\n",
        "from sklearn.decomposition import PCA\n",
        "X = np.array([[-1, -1], [-2, -1], [-3, -2], [1, 1], [2, 1], [3, 2]])\n",
        "pca = PCA(n_components=2,svd_solver='randomized')\n",
        "pca.fit(X)\n",
        "print(pca.explained_variance_ratio_)\n",
        "print(pca.singular_values_)"
      ],
      "metadata": {
        "colab": {
          "base_uri": "https://localhost:8080/"
        },
        "id": "mxF1fJekxC1i",
        "outputId": "740656cc-7a17-440a-aac4-e8c6d3ffdf13"
      },
      "execution_count": 3,
      "outputs": [
        {
          "output_type": "stream",
          "name": "stdout",
          "text": [
            "[0.99244289 0.00755711]\n",
            "[6.30061232 0.54980396]\n"
          ]
        }
      ]
    },
    {
      "cell_type": "code",
      "source": [
        "import numpy as np\n",
        "import pandas as pd\n",
        "from sklearn.decomposition import KernelPCA\n",
        "X = np.array([[-1, -1], [-2, -1], [-3, -2], [1, 1], [2, 1], [3, 2]])\n",
        "pca = KernelPCA(n_components=2, kernel=\"rbf\", gamma=0.04)\n",
        "pca.fit(X)\n",
        "X_reduced = pca.fit_transform(X)\n",
        "print(X_reduced)"
      ],
      "metadata": {
        "colab": {
          "base_uri": "https://localhost:8080/"
        },
        "id": "RoVNcYmRyPu2",
        "outputId": "850f0b2e-f992-4d07-a6a1-f321f700ac9b"
      },
      "execution_count": 8,
      "outputs": [
        {
          "output_type": "stream",
          "name": "stdout",
          "text": [
            "[[ 0.35376229 -0.21816667]\n",
            " [ 0.51755714 -0.05228295]\n",
            " [ 0.65529111  0.27044962]\n",
            " [-0.35376229 -0.21816667]\n",
            " [-0.51755714 -0.05228295]\n",
            " [-0.65529111  0.27044962]]\n"
          ]
        }
      ]
    }
  ]
}