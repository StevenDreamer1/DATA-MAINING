{
  "nbformat": 4,
  "nbformat_minor": 0,
  "metadata": {
    "colab": {
      "provenance": [],
      "authorship_tag": "ABX9TyOv9OULpSka6odWAIoCuAxt",
      "include_colab_link": true
    },
    "kernelspec": {
      "name": "python3",
      "display_name": "Python 3"
    },
    "language_info": {
      "name": "python"
    }
  },
  "cells": [
    {
      "cell_type": "markdown",
      "metadata": {
        "id": "view-in-github",
        "colab_type": "text"
      },
      "source": [
        "<a href=\"https://colab.research.google.com/github/StevenDreamer1/DATA-MAINING/blob/main/VGG16.ipynb\" target=\"_parent\"><img src=\"https://colab.research.google.com/assets/colab-badge.svg\" alt=\"Open In Colab\"/></a>"
      ]
    },
    {
      "cell_type": "code",
      "execution_count": null,
      "metadata": {
        "colab": {
          "base_uri": "https://localhost:8080/"
        },
        "id": "5GWIrAgHPBKL",
        "outputId": "7d607f89-9a4d-442c-c77e-edc803576282"
      },
      "outputs": [
        {
          "output_type": "stream",
          "name": "stdout",
          "text": [
            "Epoch 1/3\n",
            "\u001b[1m40/40\u001b[0m \u001b[32m━━━━━━━━━━━━━━━━━━━━\u001b[0m\u001b[37m\u001b[0m \u001b[1m0s\u001b[0m 66s/step - accuracy: 0.5799 - loss: 2.7659  "
          ]
        }
      ],
      "source": [
        "import tensorflow as tf\n",
        "import tensorflow_datasets as tfds\n",
        "import numpy as np\n",
        "import matplotlib.pyplot as plt\n",
        "# Load dataset from TensorFlow Datasets (No manual download required)\n",
        "dataset_name = \"cats_vs_dogs\"\n",
        "dataset, info = tfds.load(dataset_name, as_supervised=True, with_info=True)\n",
        "# Split dataset into training and validation\n",
        "train_data = dataset['train'].take(5000) # First 20,000 for training\n",
        "val_data = dataset['train'].skip(5000).take(1000) # Next 5,000 for validation\n",
        "# Function to preprocess images (resize, normalize)\n",
        "def preprocess(image, label):\n",
        " image = tf.image.resize(image, (224, 224)) # Resize to VGG16 expected size\n",
        " image = image / 255.0 # Normalize to [0,1]\n",
        " return image, label\n",
        "# Apply preprocessing and batching\n",
        "train_data = train_data.map(preprocess).batch(128).shuffle(1000)\n",
        "val_data = val_data.map(preprocess).batch(128)\n",
        "# Load Pre-trained VGG16 Model (without top layers)\n",
        "base_model = tf.keras.applications.VGG16(input_shape=(224, 224, 3),\n",
        " include_top=False, weights='imagenet')\n",
        "# Freeze the base model (so pre-trained weights are not changed)\n",
        "base_model.trainable = False\n",
        "# Add custom classifier on top\n",
        "model = tf.keras.Sequential([\n",
        " base_model,\n",
        " tf.keras.layers.Flatten(),\n",
        " tf.keras.layers.Dense(256, activation='relu'),\n",
        " tf.keras.layers.Dropout(0.5),\n",
        " tf.keras.layers.Dense(1, activation='sigmoid') # Binary classification\n",
        "])\n",
        "# Compile Model\n",
        "model.compile(optimizer='adam', loss='binary_crossentropy', metrics=['accuracy'])\n",
        "# Train Model\n",
        "history = model.fit(train_data, validation_data=val_data, epochs=3)\n",
        "# Evaluate Model\n",
        "loss, acc = model.evaluate(val_data)\n",
        "print(f\"\\nValidation Accuracy: {acc * 100:.2f}%\")\n",
        "# Function to display a predicted image\n",
        "def show_prediction():\n",
        " image, label = next(iter(val_data)) # Get a batch\n",
        " img = image[0].numpy() # Convert tensor to numpy array\n",
        " true_label = label[0].numpy()\n",
        "\n",
        " prediction = model.predict(tf.expand_dims(image[0], axis=0))\n",
        " predicted_label = \"Dog\" if prediction[0][0] > 0.5 else \"Cat\"\n",
        " plt.imshow(img)\n",
        " plt.title(f\"Predicted: {predicted_label}, Actual: {'Dog' if true_label else 'Cat'}\")\n",
        " plt.axis(\"off\")\n",
        " plt.show()\n",
        "# Show a random predicted image\n",
        "show_prediction()"
      ]
    }
  ]
}